{
  "nbformat": 4,
  "nbformat_minor": 0,
  "metadata": {
    "colab": {
      "provenance": []
    },
    "kernelspec": {
      "name": "python3",
      "display_name": "Python 3"
    },
    "language_info": {
      "name": "python"
    }
  },
  "cells": [
    {
      "cell_type": "code",
      "source": [
        "#task01 (01)  O(n^2)\n",
        "inp_file=open('input1_1.txt','r')\n",
        "out_file=open('output1_1.txt','w')\n",
        "lst_1= list (map(int, inp_file.readline(). split(\" \")))\n",
        "lst_2= list (map(int, inp_file.readline(). split(\" \") ))\n",
        "temp= False\n",
        "\n",
        "for a in range(int(lst_1[0])) :\n",
        "  store = False\n",
        "    \n",
        "  for b in range(a+1,int(lst_1[0])) :\n",
        "    total = int(lst_2[a])+int(lst_2[b] )\n",
        "        \n",
        "    if total ==int(lst_1[1]) :\n",
        "      print(a+1 ,b+1 ,file= out_file )\n",
        "            \n",
        "      temp = True\n",
        "      store = True\n",
        "      break\n",
        "    \n",
        "  if temp == True:\n",
        "    break\n",
        "#--------------        \n",
        "if temp == False:\n",
        "  print('IMPOSSIBLE',file= out_file)\n",
        "inp_file.close()\n",
        "out_file.close() "
      ],
      "metadata": {
        "id": "1qj7vXFp2-DN"
      },
      "execution_count": null,
      "outputs": []
    },
    {
      "cell_type": "code",
      "source": [
        "#task01 (02)  O(n)\n",
        "inp_file=open('input1_2.txt','r')\n",
        "out_file=open('output1_2.txt','w')\n",
        "lst_1= list(map (int, inp_file.readline().split(\" \") ))\n",
        "lst_2= list(map (int, inp_file.readline().split(\" \") ))\n",
        "temp= False\n",
        "dict= {}\n",
        "\n",
        "for a in range(int(lst_1[0])) :\n",
        "  store= int(lst_1[1]) - int(lst_2[a])\n",
        "    \n",
        "  if str (store) not in dict :\n",
        "    dict[str( lst_2[a])] =a+1\n",
        "    \n",
        "  else:\n",
        "    print(dict[str(store)],a+1,file = out_file)\n",
        "    temp= True\n",
        "    break\n",
        "\n",
        "#--------------\n",
        "if temp == False :\n",
        "    print(\"IMPOSSIBLE\",file = out_file)\n",
        "inp_file.close()\n",
        "out_file.close() "
      ],
      "metadata": {
        "id": "b9L3PsWN2-Sb"
      },
      "execution_count": 7,
      "outputs": []
    }
  ]
}