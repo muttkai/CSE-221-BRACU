{
  "nbformat": 4,
  "nbformat_minor": 0,
  "metadata": {
    "colab": {
      "provenance": []
    },
    "kernelspec": {
      "name": "python3",
      "display_name": "Python 3"
    },
    "language_info": {
      "name": "python"
    }
  },
  "cells": [
    {
      "cell_type": "code",
      "execution_count": 6,
      "metadata": {
        "id": "MtwwAfeBP8f7"
      },
      "outputs": [],
      "source": [
        "def merge(a,b) :\n",
        "  i=0\n",
        "  j=0\n",
        "  em_list=[]\n",
        "  \n",
        "  while (i<len(a) and j<len(b)) :\n",
        "    if(a[i]<b[j]) :\n",
        "      em_list.append(a[i])\n",
        "      i=i+1\n",
        "    \n",
        "    else :\n",
        "      em_list.append(b[j])\n",
        "      j=j+1\n",
        "  \n",
        "  while(i<len(a)) :\n",
        "      em_list.append(a[i])\n",
        "      i=i+1\n",
        "  \n",
        "  while(j<len(b)) :\n",
        "      em_list.append(b[j])\n",
        "      j=j+1\n",
        "  return em_list\n",
        "\n",
        "def merge_sort(arr) :\n",
        "  if(len(arr)== 1) :\n",
        "    return arr\n",
        "  \n",
        "  mid=(len(arr))// 2\n",
        "  a=merge_sort(arr[: mid] )\n",
        "  b=merge_sort(arr[mid:] )\n",
        "  \n",
        "  return merge(a,b)       \n",
        "#---------------------------------------\n",
        "inp_file=open('input3.txt','r')\n",
        "out_file=open('output3.txt','w')\n",
        "temp= int(inp_file.readline() )\n",
        "array_1 = []\n",
        "\n",
        "for a in inp_file.readline().split() :\n",
        "  array_1.append (int(a))\n",
        "sorted_arr=merge_sort(array_1)\n",
        "sorted = \"\"\n",
        "\n",
        "for a in sorted_arr:\n",
        "  sorted= sorted+str(a)+ \" \"\n",
        "\n",
        "out_file.write(sorted)\n",
        "#--------------\n",
        "inp_file.close()\n",
        "out_file.close()"
      ]
    }
  ]
}