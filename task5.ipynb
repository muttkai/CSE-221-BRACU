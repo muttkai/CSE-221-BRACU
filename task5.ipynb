{
  "nbformat": 4,
  "nbformat_minor": 0,
  "metadata": {
    "colab": {
      "provenance": []
    },
    "kernelspec": {
      "name": "python3",
      "display_name": "Python 3"
    },
    "language_info": {
      "name": "python"
    }
  },
  "cells": [
    {
      "cell_type": "code",
      "source": [
        "inp_file = open(\"input5.txt\",'r')\n",
        "out_file = open(\"output5.txt\",'w')\n",
        "num = int(inp_file.readline())\n",
        "lst_1 = []\n",
        "train_time = []\n",
        "train_name = []\n",
        "destination = []\n",
        "\n",
        "#----------------------\n",
        "\n",
        "for a in range(num):  \n",
        "  temp = inp_file.readline().split()\n",
        "  \n",
        "  train_name.append(temp[0])\n",
        "  train_time.append(temp[6])\n",
        "  destination.append(temp[4])\n",
        "  \n",
        "  lst_1.append([train_name[a], destination[a], train_time[a]])\n",
        "for b in range(1, num) :  \n",
        "  x =b\n",
        "\n",
        "  while lst_1[x][0] < lst_1[x-1][0] :\n",
        "    a = lst_1[x-1]\n",
        "    lst_1[x-1], lst_1[x] = lst_1[x], a\n",
        "    if x<=1 or lst_1[x][0] <= lst_1[x-1][0] :\n",
        "      break\n",
        "    x=x-1\n",
        "#-----------------\n",
        "  if lst_1[x][0] == lst_1[x-1][0] :\n",
        "    while lst_1[x][0] == lst_1[x-1][0] :\n",
        "      \n",
        "      if  x <= 0 or lst_1[x][-1] > lst_1[x-1][-1] :\n",
        "        c = lst_1[x-1]\n",
        "        lst_1[x-1], lst_1[x] = lst_1[x],c\n",
        "      else:\n",
        "        break\n",
        "      x=x-1\n",
        "#------------------------------------\n",
        "for final in range(num):\n",
        "  out_file.write(f\"{lst_1[final][0]} will departure for {lst_1[final][1]}  at {lst_1[final][-1]} \\n\")\n",
        "inp_file.close()\n",
        "out_file.close()"
      ],
      "metadata": {
        "id": "aR2LNUbFH8Hj"
      },
      "execution_count": 10,
      "outputs": []
    }
  ]
}