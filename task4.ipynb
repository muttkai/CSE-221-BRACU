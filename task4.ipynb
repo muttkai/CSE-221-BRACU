{
  "nbformat": 4,
  "nbformat_minor": 0,
  "metadata": {
    "colab": {
      "provenance": []
    },
    "kernelspec": {
      "name": "python3",
      "display_name": "Python 3"
    },
    "language_info": {
      "name": "python"
    }
  },
  "cells": [
    {
      "cell_type": "code",
      "source": [
        "inp_file=open('input4.txt','r')\n",
        "out_file=open('output4.txt','w')\n",
        "num=inp_file.readline()\n",
        "num_line=inp_file.readlines() \n",
        "lst_1=[]\n",
        "lst_2=[]\n",
        "for a in range(len(num_line)) :\n",
        "    num_line[a]=num_line[a]. split()\n",
        "#------------------------\n",
        "stlst_1=num_line[0]\n",
        "for b in stlst_1:\n",
        "  lst_1.append(int(b))\n",
        "\n",
        "stlst_2=num_line[1]\n",
        "for c in stlst_2:\n",
        "  lst_2.append(int(c))\n",
        "#------------------\n",
        "for i in range(len(lst_2)):\n",
        "  max_idx=i\n",
        "  \n",
        "  for j in range(i+1,len(lst_2)):\n",
        "    if lst_2[max_idx]<lst_2[j]:\n",
        "      \n",
        "      max_idx=j\n",
        "      lst_1[i],lst_1[max_idx]=lst_1[max_idx],lst_1[i]\n",
        "      lst_2[i],lst_2[max_idx]=lst_2[max_idx],lst_2[i]\n",
        "            \n",
        "idx=0\n",
        "numbers=0\n",
        "\n",
        "while idx<len(lst_1):\n",
        "  count=lst_2.count((lst_2[idx]))\n",
        "  numbers=numbers+count\n",
        "  \n",
        "  for v in range(idx,numbers):\n",
        "    for w in range(idx,numbers-1):\n",
        "      \n",
        "      if lst_1[w] > lst_1[w+1]:\n",
        "        lst_1[w], lst_1[w+1] = lst_1[w+1], lst_1[w]\n",
        "  idx=idx+ count\n",
        "  \n",
        "#------------------------------\n",
        "for result in range(len(lst_1)):\n",
        "    out_file.write(\"ID:\" +str(lst_1[result])+\" Mark:\"+str(lst_2[result])+\"\\n\")\n",
        "inp_file.close()\n",
        "out_file.close()\n",
        "\n"
      ],
      "metadata": {
        "id": "mHg_0_kZTvmm"
      },
      "execution_count": 29,
      "outputs": []
    }
  ]
}