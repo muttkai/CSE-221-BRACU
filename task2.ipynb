{
  "nbformat": 4,
  "nbformat_minor": 0,
  "metadata": {
    "colab": {
      "provenance": []
    },
    "kernelspec": {
      "name": "python3",
      "display_name": "Python 3"
    },
    "language_info": {
      "name": "python"
    }
  },
  "cells": [
    {
      "cell_type": "code",
      "source": [
        "#task02 (01)  O(nlogn)\n",
        "inp_file=open('input2_1.txt','r')\n",
        "out_file=open('output2_1.txt','w')\n",
        "\n",
        "read_line1=int(inp_file.readline())\n",
        "list_1 =[int(a) for a in inp_file.readline().split(' ') ]\n",
        "\n",
        "read_line2 =int(inp_file.readline() )\n",
        "list_2=[int(a) for a in inp_file.readline().split(' ') ]\n",
        "temp = list_1+ list_2\n",
        "temp .sort()\n",
        "\n",
        "for x in range(len(temp )) :\n",
        "  out_file.write(f' {temp [x]}')\n",
        "#-------------------------------\n",
        "inp_file.close()\n",
        "out_file.close()"
      ],
      "metadata": {
        "id": "wBgBaRLlU4D6"
      },
      "execution_count": 43,
      "outputs": []
    },
    {
      "cell_type": "code",
      "source": [
        "#task02 (02)  O(n)\n",
        "inp_file=open(\"input2_2.txt\",'r')\n",
        "out_file=open(\"output2_2.txt\",'w')\n",
        "list_1=[]\n",
        "list_2=[]\n",
        "list_3=[]\n",
        "\n",
        "read_line1=inp_file.readline()\n",
        "temp_1=inp_file.readline()\n",
        "temp_1=temp_1[:-1].split(' ')\n",
        "\n",
        "read_line2=inp_file.readline()\n",
        "temp_2=inp_file.readline()\n",
        "temp_2=temp_2.split(' ')\n",
        "\n",
        "save_1=0\n",
        "save_2=0\n",
        "\n",
        "for a in temp_1:\n",
        "  list_1.append(int(a))\n",
        "\n",
        "for b in temp_2:\n",
        "  list_2.append(int(b))\n",
        "\n",
        "\n",
        "value=len(list_1)+len(list_2)\n",
        "for i in range(value):\n",
        "  \n",
        "  if save_1==len(list_1) or save_2==len(list_2) :\n",
        "    break\n",
        "\n",
        "  if list_1[save_1]<list_2[save_2] :\n",
        "    list_3.append(list_1[save_1])\n",
        "    \n",
        "    save_1=save_1+1\n",
        "  \n",
        "  else :\n",
        "    list_3.append(list_2 [save_2])\n",
        "    save_2+=1\n",
        "\n",
        "if save_1>save_2:\n",
        "  list_3=list_3+list_2 [save_2:]\n",
        "\n",
        "else:\n",
        "  list_3=list_3+list_1 [save_1:]\n",
        "output=''\n",
        "#-----------------------------\n",
        "for x in list_3:\n",
        "  output=output+' '+ str(x)\n",
        "out_file.write(output)\n",
        "inp_file.close()\n",
        "out_file.close()"
      ],
      "metadata": {
        "id": "3bLHfKbpWm8h"
      },
      "execution_count": 42,
      "outputs": []
    }
  ]
}